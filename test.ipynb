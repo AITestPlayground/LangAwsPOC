{
 "cells": [
  {
   "cell_type": "code",
   "execution_count": 3,
   "metadata": {},
   "outputs": [
    {
     "data": {
      "text/plain": [
       "True"
      ]
     },
     "execution_count": 3,
     "metadata": {},
     "output_type": "execute_result"
    }
   ],
   "source": [
    "from dotenv import load_dotenv\n",
    "\n",
    "load_dotenv()\n"
   ]
  },
  {
   "cell_type": "code",
   "execution_count": 1,
   "metadata": {},
   "outputs": [
    {
     "name": "stdout",
     "output_type": "stream",
     "text": [
      "Uploaded documents/document1.pdf to s3://opensearchs3bucket-dc6ce169-9870-411a-a6b7-d79cd1ceb391/document1.pdf\n"
     ]
    }
   ],
   "source": [
    "from db_vectoriser.S3_Uploader import S3_Uploader\n",
    "\n",
    "uploader = S3_Uploader(bucket_name=\"opensearchs3bucket-dc6ce169-9870-411a-a6b7-d79cd1ceb391\")\n",
    "uploader.upload_directory(\"documents\")"
   ]
  },
  {
   "cell_type": "code",
   "execution_count": 1,
   "metadata": {},
   "outputs": [
    {
     "name": "stdout",
     "output_type": "stream",
     "text": [
      "New York City was originally inhabited by Native Americans of the Lenape tribe. It was first colonized as New Amsterdam by the Dutch in 1624. The city came under English control in 1664 and was briefly named New York before being permanently renamed New York in 1674. New York City is the most populous city in the United States, with over 8 million residents. It is a global hub of finance, commerce, culture, and immigration. The city comprises 5 boroughs and is the center of the New York metropolitan area. New York City served as the capital of the United States from 1785 to 1790. Today it is home to Wall Street and anchors the world's largest metropolitan economy.\n",
      "Reference: s3://opensearchs3bucket-dc6ce169-9870-411a-a6b7-d79cd1ceb391/New_York_City.pdf\n"
     ]
    }
   ],
   "source": [
    "from db_vectoriser.Bedrock_Chat import BedrockChat\n",
    "\n",
    "bedrock_chat = BedrockChat()\n",
    "user_input = \"Can you provide more information about New York City?\"\n",
    "response_text = bedrock_chat.chat_with_bedrock(user_input)\n",
    "print(response_text)\n"
   ]
  },
  {
   "cell_type": "code",
   "execution_count": 2,
   "metadata": {},
   "outputs": [
    {
     "data": {
      "text/plain": [
       "'1.34.120'"
      ]
     },
     "execution_count": 2,
     "metadata": {},
     "output_type": "execute_result"
    }
   ],
   "source": []
  },
  {
   "cell_type": "code",
   "execution_count": 1,
   "metadata": {},
   "outputs": [
    {
     "name": "stdout",
     "output_type": "stream",
     "text": [
      "Collecting boto3==1.34.120\n",
      "  Downloading boto3-1.34.120-py3-none-any.whl (139 kB)\n",
      "\u001b[2K     \u001b[38;2;114;156;31m━━━━━━━━━━━━━━━━━━━━━━━━━━━━━━━━━━━━━━━\u001b[0m \u001b[32m139.3/139.3 kB\u001b[0m \u001b[31m2.5 MB/s\u001b[0m eta \u001b[36m0:00:00\u001b[0m[31m2.4 MB/s\u001b[0m eta \u001b[36m0:00:01\u001b[0m\n",
      "\u001b[?25hRequirement already satisfied: langchain==0.0.72 in ./env/lib/python3.11/site-packages (from -r requirements.txt (line 2)) (0.0.72)\n",
      "Requirement already satisfied: langgraph in ./env/lib/python3.11/site-packages (from -r requirements.txt (line 3)) (0.0.65)\n",
      "Collecting botocore<1.35.0,>=1.34.120\n",
      "  Downloading botocore-1.34.122-py3-none-any.whl (12.3 MB)\n",
      "\u001b[2K     \u001b[38;2;114;156;31m━━━━━━━━━━━━━━━━━━━━━━━━━━━━━━━━━━━━━━━━\u001b[0m \u001b[32m12.3/12.3 MB\u001b[0m \u001b[31m15.3 MB/s\u001b[0m eta \u001b[36m0:00:00\u001b[0mm eta \u001b[36m0:00:01\u001b[0m[36m0:00:01\u001b[0m\n",
      "\u001b[?25hRequirement already satisfied: jmespath<2.0.0,>=0.7.1 in ./env/lib/python3.11/site-packages (from boto3==1.34.120->-r requirements.txt (line 1)) (1.0.1)\n",
      "Collecting s3transfer<0.11.0,>=0.10.0\n",
      "  Downloading s3transfer-0.10.1-py3-none-any.whl (82 kB)\n",
      "\u001b[2K     \u001b[38;2;114;156;31m━━━━━━━━━━━━━━━━━━━━━━━━━━━━━━━━━━━━━━━━\u001b[0m \u001b[32m82.2/82.2 kB\u001b[0m \u001b[31m11.4 MB/s\u001b[0m eta \u001b[36m0:00:00\u001b[0m\n",
      "\u001b[?25hRequirement already satisfied: PyYAML<7,>=6 in ./env/lib/python3.11/site-packages (from langchain==0.0.72->-r requirements.txt (line 2)) (6.0.1)\n",
      "Requirement already satisfied: SQLAlchemy<2,>=1 in ./env/lib/python3.11/site-packages (from langchain==0.0.72->-r requirements.txt (line 2)) (1.4.52)\n",
      "Requirement already satisfied: dataclasses-json<0.6.0,>=0.5.7 in ./env/lib/python3.11/site-packages (from langchain==0.0.72->-r requirements.txt (line 2)) (0.5.14)\n",
      "Requirement already satisfied: numpy<2,>=1 in ./env/lib/python3.11/site-packages (from langchain==0.0.72->-r requirements.txt (line 2)) (1.26.4)\n",
      "Requirement already satisfied: pydantic<2,>=1 in ./env/lib/python3.11/site-packages (from langchain==0.0.72->-r requirements.txt (line 2)) (1.10.15)\n",
      "Requirement already satisfied: requests<3,>=2 in ./env/lib/python3.11/site-packages (from langchain==0.0.72->-r requirements.txt (line 2)) (2.32.3)\n",
      "Requirement already satisfied: langchain-core<0.3,>=0.2 in ./env/lib/python3.11/site-packages (from langgraph->-r requirements.txt (line 3)) (0.2.5)\n",
      "Requirement already satisfied: python-dateutil<3.0.0,>=2.1 in ./env/lib/python3.11/site-packages (from botocore<1.35.0,>=1.34.120->boto3==1.34.120->-r requirements.txt (line 1)) (2.9.0.post0)\n",
      "Requirement already satisfied: urllib3!=2.2.0,<3,>=1.25.4 in ./env/lib/python3.11/site-packages (from botocore<1.35.0,>=1.34.120->boto3==1.34.120->-r requirements.txt (line 1)) (1.26.18)\n",
      "Requirement already satisfied: marshmallow<4.0.0,>=3.18.0 in ./env/lib/python3.11/site-packages (from dataclasses-json<0.6.0,>=0.5.7->langchain==0.0.72->-r requirements.txt (line 2)) (3.21.3)\n",
      "Requirement already satisfied: typing-inspect<1,>=0.4.0 in ./env/lib/python3.11/site-packages (from dataclasses-json<0.6.0,>=0.5.7->langchain==0.0.72->-r requirements.txt (line 2)) (0.9.0)\n",
      "Requirement already satisfied: jsonpatch<2.0,>=1.33 in ./env/lib/python3.11/site-packages (from langchain-core<0.3,>=0.2->langgraph->-r requirements.txt (line 3)) (1.33)\n",
      "Requirement already satisfied: langsmith<0.2.0,>=0.1.66 in ./env/lib/python3.11/site-packages (from langchain-core<0.3,>=0.2->langgraph->-r requirements.txt (line 3)) (0.1.75)\n",
      "Requirement already satisfied: packaging<24.0,>=23.2 in ./env/lib/python3.11/site-packages (from langchain-core<0.3,>=0.2->langgraph->-r requirements.txt (line 3)) (23.2)\n",
      "Requirement already satisfied: tenacity<9.0.0,>=8.1.0 in ./env/lib/python3.11/site-packages (from langchain-core<0.3,>=0.2->langgraph->-r requirements.txt (line 3)) (8.3.0)\n",
      "Requirement already satisfied: typing-extensions>=4.2.0 in ./env/lib/python3.11/site-packages (from pydantic<2,>=1->langchain==0.0.72->-r requirements.txt (line 2)) (4.12.2)\n",
      "Requirement already satisfied: charset-normalizer<4,>=2 in ./env/lib/python3.11/site-packages (from requests<3,>=2->langchain==0.0.72->-r requirements.txt (line 2)) (3.3.2)\n",
      "Requirement already satisfied: idna<4,>=2.5 in ./env/lib/python3.11/site-packages (from requests<3,>=2->langchain==0.0.72->-r requirements.txt (line 2)) (3.7)\n",
      "Requirement already satisfied: certifi>=2017.4.17 in ./env/lib/python3.11/site-packages (from requests<3,>=2->langchain==0.0.72->-r requirements.txt (line 2)) (2024.6.2)\n",
      "Requirement already satisfied: greenlet!=0.4.17 in ./env/lib/python3.11/site-packages (from SQLAlchemy<2,>=1->langchain==0.0.72->-r requirements.txt (line 2)) (3.0.3)\n",
      "Requirement already satisfied: jsonpointer>=1.9 in ./env/lib/python3.11/site-packages (from jsonpatch<2.0,>=1.33->langchain-core<0.3,>=0.2->langgraph->-r requirements.txt (line 3)) (2.4)\n",
      "Requirement already satisfied: orjson<4.0.0,>=3.9.14 in ./env/lib/python3.11/site-packages (from langsmith<0.2.0,>=0.1.66->langchain-core<0.3,>=0.2->langgraph->-r requirements.txt (line 3)) (3.10.3)\n",
      "Requirement already satisfied: six>=1.5 in ./env/lib/python3.11/site-packages (from python-dateutil<3.0.0,>=2.1->botocore<1.35.0,>=1.34.120->boto3==1.34.120->-r requirements.txt (line 1)) (1.16.0)\n",
      "Requirement already satisfied: mypy-extensions>=0.3.0 in ./env/lib/python3.11/site-packages (from typing-inspect<1,>=0.4.0->dataclasses-json<0.6.0,>=0.5.7->langchain==0.0.72->-r requirements.txt (line 2)) (1.0.0)\n",
      "Installing collected packages: botocore, s3transfer, boto3\n",
      "  Attempting uninstall: botocore\n",
      "    Found existing installation: botocore 1.29.165\n",
      "    Uninstalling botocore-1.29.165:\n",
      "      Successfully uninstalled botocore-1.29.165\n",
      "  Attempting uninstall: s3transfer\n",
      "    Found existing installation: s3transfer 0.6.2\n",
      "    Uninstalling s3transfer-0.6.2:\n",
      "      Successfully uninstalled s3transfer-0.6.2\n",
      "  Attempting uninstall: boto3\n",
      "    Found existing installation: boto3 1.26.0\n",
      "    Uninstalling boto3-1.26.0:\n",
      "      Successfully uninstalled boto3-1.26.0\n",
      "Successfully installed boto3-1.34.120 botocore-1.34.122 s3transfer-0.10.1\n"
     ]
    }
   ],
   "source": []
  },
  {
   "cell_type": "code",
   "execution_count": null,
   "metadata": {},
   "outputs": [],
   "source": []
  }
 ],
 "metadata": {
  "kernelspec": {
   "display_name": "env",
   "language": "python",
   "name": "python3"
  },
  "language_info": {
   "codemirror_mode": {
    "name": "ipython",
    "version": 3
   },
   "file_extension": ".py",
   "mimetype": "text/x-python",
   "name": "python",
   "nbconvert_exporter": "python",
   "pygments_lexer": "ipython3",
   "version": "3.11.4"
  }
 },
 "nbformat": 4,
 "nbformat_minor": 2
}
